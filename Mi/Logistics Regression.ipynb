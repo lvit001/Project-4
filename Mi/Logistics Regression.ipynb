{
 "cells": [
  {
   "cell_type": "code",
   "execution_count": 1,
   "metadata": {},
   "outputs": [],
   "source": [
    "# Import the modules\n",
    "import pandas as pd\n",
    "import sqlite3\n",
    "from sklearn.model_selection import train_test_split\n",
    "from sklearn.linear_model import LogisticRegression\n",
    "from sklearn.metrics import confusion_matrix, classification_report"
   ]
  },
  {
   "cell_type": "markdown",
   "metadata": {},
   "source": [
    "---"
   ]
  },
  {
   "cell_type": "markdown",
   "metadata": {},
   "source": [
    "## Split the Data into Training and Testing Sets"
   ]
  },
  {
   "cell_type": "markdown",
   "metadata": {},
   "source": [
    "### Step 1: Read the `diseases.sqlite` database into a Pandas DataFrame."
   ]
  },
  {
   "cell_type": "code",
   "execution_count": 18,
   "metadata": {},
   "outputs": [
    {
     "name": "stdout",
     "output_type": "stream",
     "text": [
      "    acidity  palpitations  anxiety  bladder_discomfort  \\\n",
      "0         0             0        0                   0   \n",
      "1         0             0        0                   0   \n",
      "2         0             0        0                   0   \n",
      "3         0             0        0                   0   \n",
      "4         0             0        0                   0   \n",
      "5         0             0        0                   0   \n",
      "6         0             0        0                   0   \n",
      "7         0             0        0                   0   \n",
      "8         0             0        0                   0   \n",
      "9         0             0        0                   0   \n",
      "10        0             0        0                   0   \n",
      "\n",
      "    blurred_and_distorted_vision  breathlessness  burning_micturition  \\\n",
      "0                              0               0                    0   \n",
      "1                              0               0                    0   \n",
      "2                              0               0                    0   \n",
      "3                              0               0                    0   \n",
      "4                              0               0                    0   \n",
      "5                              0               0                    0   \n",
      "6                              0               0                    0   \n",
      "7                              0               0                    0   \n",
      "8                              0               0                    0   \n",
      "9                              0               0                    0   \n",
      "10                             0               0                    0   \n",
      "\n",
      "    chest_pain  chills  congestion  ...  spotting_ urination  stiff_neck  \\\n",
      "0            0       0           0  ...                    0           0   \n",
      "1            0       0           0  ...                    0           0   \n",
      "2            0       0           0  ...                    0           0   \n",
      "3            0       0           0  ...                    0           0   \n",
      "4            0       0           0  ...                    0           0   \n",
      "5            0       0           0  ...                    0           0   \n",
      "6            0       0           0  ...                    0           0   \n",
      "7            0       0           0  ...                    0           0   \n",
      "8            0       0           0  ...                    0           0   \n",
      "9            0       0           0  ...                    0           0   \n",
      "10           0       1           0  ...                    0           0   \n",
      "\n",
      "    stomach_pain  sweating  swelled_lymph_nodes  throat_irritation  \\\n",
      "0              0         0                    0                  0   \n",
      "1              0         0                    0                  0   \n",
      "2              0         0                    0                  0   \n",
      "3              0         0                    0                  0   \n",
      "4              0         0                    0                  0   \n",
      "5              0         0                    0                  0   \n",
      "6              0         0                    0                  0   \n",
      "7              0         0                    0                  0   \n",
      "8              0         0                    0                  0   \n",
      "9              0         0                    0                  0   \n",
      "10             0         0                    0                  0   \n",
      "\n",
      "    visual_disturbances  vomiting  watering_from_eyes  Disease  \n",
      "0                     0         0                   0        6  \n",
      "1                     0         0                   0        6  \n",
      "2                     0         0                   0        6  \n",
      "3                     0         0                   0        6  \n",
      "4                     0         0                   0        6  \n",
      "5                     0         0                   0        6  \n",
      "6                     0         0                   0        6  \n",
      "7                     0         0                   0        6  \n",
      "8                     0         0                   0        6  \n",
      "9                     0         0                   0        6  \n",
      "10                    0         0                   1        0  \n",
      "\n",
      "[11 rows x 53 columns]\n",
      "Total number of rows: 1200\n"
     ]
    }
   ],
   "source": [
    "# Connect to the SQLite database\n",
    "conn = sqlite3.connect('../Project 4/Data/diseases.sqlite')\n",
    "\n",
    "# Read data from the database into a DataFrame\n",
    "query = \"SELECT * FROM diseases\"\n",
    "df = pd.read_sql_query(query, conn)\n",
    "conn.close()\n",
    "\n",
    "# Review the DataFrame\n",
    "print(df.head(11))\n",
    "print(\"Total number of rows:\", df.shape[0])"
   ]
  },
  {
   "cell_type": "markdown",
   "metadata": {},
   "source": [
    "### Step 2: Create the labels set (`y`)  from the “disease” column, and then create the features (`X`) DataFrame from the remaining columns."
   ]
  },
  {
   "cell_type": "code",
   "execution_count": 34,
   "metadata": {},
   "outputs": [
    {
     "name": "stdout",
     "output_type": "stream",
     "text": [
      "Number of unique diseases: 10\n"
     ]
    }
   ],
   "source": [
    "# Count the number of unique diseases in the 'Disease' column\n",
    "num_diseases = df['Disease'].nunique()\n",
    "\n",
    "# Print the number of unique diseases\n",
    "print(\"Number of unique diseases:\", num_diseases)"
   ]
  },
  {
   "cell_type": "code",
   "execution_count": 35,
   "metadata": {},
   "outputs": [],
   "source": [
    "# Separate the data into labels and features\n",
    "y = df[\"Disease\"]\n",
    "X = df.drop(columns=\"Disease\")"
   ]
  },
  {
   "cell_type": "code",
   "execution_count": 36,
   "metadata": {},
   "outputs": [
    {
     "name": "stdout",
     "output_type": "stream",
     "text": [
      "0     6\n",
      "1     6\n",
      "2     6\n",
      "3     6\n",
      "4     6\n",
      "5     6\n",
      "6     6\n",
      "7     6\n",
      "8     6\n",
      "9     6\n",
      "10    0\n",
      "11    0\n",
      "Name: Disease, dtype: int64\n",
      "Total number of rows: 1200\n"
     ]
    }
   ],
   "source": [
    "# Review the y variable Series\n",
    "print(y.head(12))\n",
    "print(\"Total number of rows:\", y.shape[0])"
   ]
  },
  {
   "cell_type": "code",
   "execution_count": 37,
   "metadata": {},
   "outputs": [
    {
     "data": {
      "text/html": [
       "<div>\n",
       "<style scoped>\n",
       "    .dataframe tbody tr th:only-of-type {\n",
       "        vertical-align: middle;\n",
       "    }\n",
       "\n",
       "    .dataframe tbody tr th {\n",
       "        vertical-align: top;\n",
       "    }\n",
       "\n",
       "    .dataframe thead th {\n",
       "        text-align: right;\n",
       "    }\n",
       "</style>\n",
       "<table border=\"1\" class=\"dataframe\">\n",
       "  <thead>\n",
       "    <tr style=\"text-align: right;\">\n",
       "      <th></th>\n",
       "      <th>acidity</th>\n",
       "      <th>palpitations</th>\n",
       "      <th>anxiety</th>\n",
       "      <th>bladder_discomfort</th>\n",
       "      <th>blurred_and_distorted_vision</th>\n",
       "      <th>breathlessness</th>\n",
       "      <th>burning_micturition</th>\n",
       "      <th>chest_pain</th>\n",
       "      <th>chills</th>\n",
       "      <th>congestion</th>\n",
       "      <th>...</th>\n",
       "      <th>slurred_speech</th>\n",
       "      <th>spotting_ urination</th>\n",
       "      <th>stiff_neck</th>\n",
       "      <th>stomach_pain</th>\n",
       "      <th>sweating</th>\n",
       "      <th>swelled_lymph_nodes</th>\n",
       "      <th>throat_irritation</th>\n",
       "      <th>visual_disturbances</th>\n",
       "      <th>vomiting</th>\n",
       "      <th>watering_from_eyes</th>\n",
       "    </tr>\n",
       "  </thead>\n",
       "  <tbody>\n",
       "    <tr>\n",
       "      <th>0</th>\n",
       "      <td>0</td>\n",
       "      <td>0</td>\n",
       "      <td>0</td>\n",
       "      <td>0</td>\n",
       "      <td>0</td>\n",
       "      <td>0</td>\n",
       "      <td>0</td>\n",
       "      <td>0</td>\n",
       "      <td>0</td>\n",
       "      <td>0</td>\n",
       "      <td>...</td>\n",
       "      <td>0</td>\n",
       "      <td>0</td>\n",
       "      <td>0</td>\n",
       "      <td>0</td>\n",
       "      <td>0</td>\n",
       "      <td>0</td>\n",
       "      <td>0</td>\n",
       "      <td>0</td>\n",
       "      <td>0</td>\n",
       "      <td>0</td>\n",
       "    </tr>\n",
       "    <tr>\n",
       "      <th>1</th>\n",
       "      <td>0</td>\n",
       "      <td>0</td>\n",
       "      <td>0</td>\n",
       "      <td>0</td>\n",
       "      <td>0</td>\n",
       "      <td>0</td>\n",
       "      <td>0</td>\n",
       "      <td>0</td>\n",
       "      <td>0</td>\n",
       "      <td>0</td>\n",
       "      <td>...</td>\n",
       "      <td>0</td>\n",
       "      <td>0</td>\n",
       "      <td>0</td>\n",
       "      <td>0</td>\n",
       "      <td>0</td>\n",
       "      <td>0</td>\n",
       "      <td>0</td>\n",
       "      <td>0</td>\n",
       "      <td>0</td>\n",
       "      <td>0</td>\n",
       "    </tr>\n",
       "    <tr>\n",
       "      <th>2</th>\n",
       "      <td>0</td>\n",
       "      <td>0</td>\n",
       "      <td>0</td>\n",
       "      <td>0</td>\n",
       "      <td>0</td>\n",
       "      <td>0</td>\n",
       "      <td>0</td>\n",
       "      <td>0</td>\n",
       "      <td>0</td>\n",
       "      <td>0</td>\n",
       "      <td>...</td>\n",
       "      <td>0</td>\n",
       "      <td>0</td>\n",
       "      <td>0</td>\n",
       "      <td>0</td>\n",
       "      <td>0</td>\n",
       "      <td>0</td>\n",
       "      <td>0</td>\n",
       "      <td>0</td>\n",
       "      <td>0</td>\n",
       "      <td>0</td>\n",
       "    </tr>\n",
       "    <tr>\n",
       "      <th>3</th>\n",
       "      <td>0</td>\n",
       "      <td>0</td>\n",
       "      <td>0</td>\n",
       "      <td>0</td>\n",
       "      <td>0</td>\n",
       "      <td>0</td>\n",
       "      <td>0</td>\n",
       "      <td>0</td>\n",
       "      <td>0</td>\n",
       "      <td>0</td>\n",
       "      <td>...</td>\n",
       "      <td>0</td>\n",
       "      <td>0</td>\n",
       "      <td>0</td>\n",
       "      <td>0</td>\n",
       "      <td>0</td>\n",
       "      <td>0</td>\n",
       "      <td>0</td>\n",
       "      <td>0</td>\n",
       "      <td>0</td>\n",
       "      <td>0</td>\n",
       "    </tr>\n",
       "    <tr>\n",
       "      <th>4</th>\n",
       "      <td>0</td>\n",
       "      <td>0</td>\n",
       "      <td>0</td>\n",
       "      <td>0</td>\n",
       "      <td>0</td>\n",
       "      <td>0</td>\n",
       "      <td>0</td>\n",
       "      <td>0</td>\n",
       "      <td>0</td>\n",
       "      <td>0</td>\n",
       "      <td>...</td>\n",
       "      <td>0</td>\n",
       "      <td>0</td>\n",
       "      <td>0</td>\n",
       "      <td>0</td>\n",
       "      <td>0</td>\n",
       "      <td>0</td>\n",
       "      <td>0</td>\n",
       "      <td>0</td>\n",
       "      <td>0</td>\n",
       "      <td>0</td>\n",
       "    </tr>\n",
       "  </tbody>\n",
       "</table>\n",
       "<p>5 rows × 52 columns</p>\n",
       "</div>"
      ],
      "text/plain": [
       "   acidity  palpitations  anxiety  bladder_discomfort  \\\n",
       "0        0             0        0                   0   \n",
       "1        0             0        0                   0   \n",
       "2        0             0        0                   0   \n",
       "3        0             0        0                   0   \n",
       "4        0             0        0                   0   \n",
       "\n",
       "   blurred_and_distorted_vision  breathlessness  burning_micturition  \\\n",
       "0                             0               0                    0   \n",
       "1                             0               0                    0   \n",
       "2                             0               0                    0   \n",
       "3                             0               0                    0   \n",
       "4                             0               0                    0   \n",
       "\n",
       "   chest_pain  chills  congestion  ...  slurred_speech  spotting_ urination  \\\n",
       "0           0       0           0  ...               0                    0   \n",
       "1           0       0           0  ...               0                    0   \n",
       "2           0       0           0  ...               0                    0   \n",
       "3           0       0           0  ...               0                    0   \n",
       "4           0       0           0  ...               0                    0   \n",
       "\n",
       "   stiff_neck  stomach_pain  sweating  swelled_lymph_nodes  throat_irritation  \\\n",
       "0           0             0         0                    0                  0   \n",
       "1           0             0         0                    0                  0   \n",
       "2           0             0         0                    0                  0   \n",
       "3           0             0         0                    0                  0   \n",
       "4           0             0         0                    0                  0   \n",
       "\n",
       "   visual_disturbances  vomiting  watering_from_eyes  \n",
       "0                    0         0                   0  \n",
       "1                    0         0                   0  \n",
       "2                    0         0                   0  \n",
       "3                    0         0                   0  \n",
       "4                    0         0                   0  \n",
       "\n",
       "[5 rows x 52 columns]"
      ]
     },
     "execution_count": 37,
     "metadata": {},
     "output_type": "execute_result"
    }
   ],
   "source": [
    "# Review the X variable DataFrame\n",
    "X.head()"
   ]
  },
  {
   "cell_type": "markdown",
   "metadata": {},
   "source": [
    "### Step 3: Split the data into training and testing datasets by using `train_test_split`."
   ]
  },
  {
   "cell_type": "code",
   "execution_count": 38,
   "metadata": {},
   "outputs": [
    {
     "name": "stdout",
     "output_type": "stream",
     "text": [
      "X_train shape: (960, 52)\n",
      "X_test shape: (240, 52)\n",
      "y_train shape: (960,)\n",
      "y_test shape: (240,)\n"
     ]
    }
   ],
   "source": [
    "# Import the train_test_learn module\n",
    "from sklearn.model_selection import train_test_split\n",
    "from sklearn.model_selection import train_test_split\n",
    "\n",
    "# Split the data using train_test_split\n",
    "X_train, X_test, y_train, y_test = train_test_split(X, y, test_size=0.2, random_state=42)\n",
    "print(\"X_train shape:\", X_train.shape)\n",
    "print(\"X_test shape:\", X_test.shape)\n",
    "print(\"y_train shape:\", y_train.shape)\n",
    "print(\"y_test shape:\", y_test.shape)"
   ]
  },
  {
   "cell_type": "markdown",
   "metadata": {},
   "source": [
    "---"
   ]
  },
  {
   "cell_type": "markdown",
   "metadata": {},
   "source": [
    "## Create a Logistic Regression Model with the Original Data"
   ]
  },
  {
   "cell_type": "markdown",
   "metadata": {},
   "source": [
    "###  Step 1: Fit a logistic regression model by using the training data (`X_train` and `y_train`)."
   ]
  },
  {
   "cell_type": "code",
   "execution_count": 39,
   "metadata": {},
   "outputs": [
    {
     "data": {
      "text/html": [
       "<style>#sk-container-id-3 {color: black;}#sk-container-id-3 pre{padding: 0;}#sk-container-id-3 div.sk-toggleable {background-color: white;}#sk-container-id-3 label.sk-toggleable__label {cursor: pointer;display: block;width: 100%;margin-bottom: 0;padding: 0.3em;box-sizing: border-box;text-align: center;}#sk-container-id-3 label.sk-toggleable__label-arrow:before {content: \"▸\";float: left;margin-right: 0.25em;color: #696969;}#sk-container-id-3 label.sk-toggleable__label-arrow:hover:before {color: black;}#sk-container-id-3 div.sk-estimator:hover label.sk-toggleable__label-arrow:before {color: black;}#sk-container-id-3 div.sk-toggleable__content {max-height: 0;max-width: 0;overflow: hidden;text-align: left;background-color: #f0f8ff;}#sk-container-id-3 div.sk-toggleable__content pre {margin: 0.2em;color: black;border-radius: 0.25em;background-color: #f0f8ff;}#sk-container-id-3 input.sk-toggleable__control:checked~div.sk-toggleable__content {max-height: 200px;max-width: 100%;overflow: auto;}#sk-container-id-3 input.sk-toggleable__control:checked~label.sk-toggleable__label-arrow:before {content: \"▾\";}#sk-container-id-3 div.sk-estimator input.sk-toggleable__control:checked~label.sk-toggleable__label {background-color: #d4ebff;}#sk-container-id-3 div.sk-label input.sk-toggleable__control:checked~label.sk-toggleable__label {background-color: #d4ebff;}#sk-container-id-3 input.sk-hidden--visually {border: 0;clip: rect(1px 1px 1px 1px);clip: rect(1px, 1px, 1px, 1px);height: 1px;margin: -1px;overflow: hidden;padding: 0;position: absolute;width: 1px;}#sk-container-id-3 div.sk-estimator {font-family: monospace;background-color: #f0f8ff;border: 1px dotted black;border-radius: 0.25em;box-sizing: border-box;margin-bottom: 0.5em;}#sk-container-id-3 div.sk-estimator:hover {background-color: #d4ebff;}#sk-container-id-3 div.sk-parallel-item::after {content: \"\";width: 100%;border-bottom: 1px solid gray;flex-grow: 1;}#sk-container-id-3 div.sk-label:hover label.sk-toggleable__label {background-color: #d4ebff;}#sk-container-id-3 div.sk-serial::before {content: \"\";position: absolute;border-left: 1px solid gray;box-sizing: border-box;top: 0;bottom: 0;left: 50%;z-index: 0;}#sk-container-id-3 div.sk-serial {display: flex;flex-direction: column;align-items: center;background-color: white;padding-right: 0.2em;padding-left: 0.2em;position: relative;}#sk-container-id-3 div.sk-item {position: relative;z-index: 1;}#sk-container-id-3 div.sk-parallel {display: flex;align-items: stretch;justify-content: center;background-color: white;position: relative;}#sk-container-id-3 div.sk-item::before, #sk-container-id-3 div.sk-parallel-item::before {content: \"\";position: absolute;border-left: 1px solid gray;box-sizing: border-box;top: 0;bottom: 0;left: 50%;z-index: -1;}#sk-container-id-3 div.sk-parallel-item {display: flex;flex-direction: column;z-index: 1;position: relative;background-color: white;}#sk-container-id-3 div.sk-parallel-item:first-child::after {align-self: flex-end;width: 50%;}#sk-container-id-3 div.sk-parallel-item:last-child::after {align-self: flex-start;width: 50%;}#sk-container-id-3 div.sk-parallel-item:only-child::after {width: 0;}#sk-container-id-3 div.sk-dashed-wrapped {border: 1px dashed gray;margin: 0 0.4em 0.5em 0.4em;box-sizing: border-box;padding-bottom: 0.4em;background-color: white;}#sk-container-id-3 div.sk-label label {font-family: monospace;font-weight: bold;display: inline-block;line-height: 1.2em;}#sk-container-id-3 div.sk-label-container {text-align: center;}#sk-container-id-3 div.sk-container {/* jupyter's `normalize.less` sets `[hidden] { display: none; }` but bootstrap.min.css set `[hidden] { display: none !important; }` so we also need the `!important` here to be able to override the default hidden behavior on the sphinx rendered scikit-learn.org. See: https://github.com/scikit-learn/scikit-learn/issues/21755 */display: inline-block !important;position: relative;}#sk-container-id-3 div.sk-text-repr-fallback {display: none;}</style><div id=\"sk-container-id-3\" class=\"sk-top-container\"><div class=\"sk-text-repr-fallback\"><pre>LogisticRegression()</pre><b>In a Jupyter environment, please rerun this cell to show the HTML representation or trust the notebook. <br />On GitHub, the HTML representation is unable to render, please try loading this page with nbviewer.org.</b></div><div class=\"sk-container\" hidden><div class=\"sk-item\"><div class=\"sk-estimator sk-toggleable\"><input class=\"sk-toggleable__control sk-hidden--visually\" id=\"sk-estimator-id-3\" type=\"checkbox\" checked><label for=\"sk-estimator-id-3\" class=\"sk-toggleable__label sk-toggleable__label-arrow\">LogisticRegression</label><div class=\"sk-toggleable__content\"><pre>LogisticRegression()</pre></div></div></div></div></div>"
      ],
      "text/plain": [
       "LogisticRegression()"
      ]
     },
     "execution_count": 39,
     "metadata": {},
     "output_type": "execute_result"
    }
   ],
   "source": [
    "# Import the LogisticRegression module from SKLearn\n",
    "from sklearn.linear_model import LogisticRegression\n",
    "\n",
    "# Instantiate the Logistic Regression model\n",
    "logistic_model = LogisticRegression()\n",
    "\n",
    "# Fit the model using training data\n",
    "logistic_model.fit(X_train, y_train)"
   ]
  },
  {
   "cell_type": "markdown",
   "metadata": {},
   "source": [
    "### Step 2: Save the predictions on the testing data labels by using the testing feature data (`X_test`) and the fitted model."
   ]
  },
  {
   "cell_type": "code",
   "execution_count": 40,
   "metadata": {},
   "outputs": [
    {
     "data": {
      "text/html": [
       "<div>\n",
       "<style scoped>\n",
       "    .dataframe tbody tr th:only-of-type {\n",
       "        vertical-align: middle;\n",
       "    }\n",
       "\n",
       "    .dataframe tbody tr th {\n",
       "        vertical-align: top;\n",
       "    }\n",
       "\n",
       "    .dataframe thead th {\n",
       "        text-align: right;\n",
       "    }\n",
       "</style>\n",
       "<table border=\"1\" class=\"dataframe\">\n",
       "  <thead>\n",
       "    <tr style=\"text-align: right;\">\n",
       "      <th></th>\n",
       "      <th>Prediction</th>\n",
       "      <th>Actual</th>\n",
       "    </tr>\n",
       "  </thead>\n",
       "  <tbody>\n",
       "    <tr>\n",
       "      <th>0</th>\n",
       "      <td>7</td>\n",
       "      <td>7</td>\n",
       "    </tr>\n",
       "    <tr>\n",
       "      <th>1</th>\n",
       "      <td>3</td>\n",
       "      <td>3</td>\n",
       "    </tr>\n",
       "    <tr>\n",
       "      <th>2</th>\n",
       "      <td>6</td>\n",
       "      <td>6</td>\n",
       "    </tr>\n",
       "    <tr>\n",
       "      <th>3</th>\n",
       "      <td>2</td>\n",
       "      <td>2</td>\n",
       "    </tr>\n",
       "    <tr>\n",
       "      <th>4</th>\n",
       "      <td>3</td>\n",
       "      <td>3</td>\n",
       "    </tr>\n",
       "    <tr>\n",
       "      <th>...</th>\n",
       "      <td>...</td>\n",
       "      <td>...</td>\n",
       "    </tr>\n",
       "    <tr>\n",
       "      <th>235</th>\n",
       "      <td>7</td>\n",
       "      <td>7</td>\n",
       "    </tr>\n",
       "    <tr>\n",
       "      <th>236</th>\n",
       "      <td>5</td>\n",
       "      <td>5</td>\n",
       "    </tr>\n",
       "    <tr>\n",
       "      <th>237</th>\n",
       "      <td>9</td>\n",
       "      <td>9</td>\n",
       "    </tr>\n",
       "    <tr>\n",
       "      <th>238</th>\n",
       "      <td>2</td>\n",
       "      <td>2</td>\n",
       "    </tr>\n",
       "    <tr>\n",
       "      <th>239</th>\n",
       "      <td>9</td>\n",
       "      <td>9</td>\n",
       "    </tr>\n",
       "  </tbody>\n",
       "</table>\n",
       "<p>240 rows × 2 columns</p>\n",
       "</div>"
      ],
      "text/plain": [
       "     Prediction  Actual\n",
       "0             7       7\n",
       "1             3       3\n",
       "2             6       6\n",
       "3             2       2\n",
       "4             3       3\n",
       "..          ...     ...\n",
       "235           7       7\n",
       "236           5       5\n",
       "237           9       9\n",
       "238           2       2\n",
       "239           9       9\n",
       "\n",
       "[240 rows x 2 columns]"
      ]
     },
     "execution_count": 40,
     "metadata": {},
     "output_type": "execute_result"
    }
   ],
   "source": [
    "# Make a prediction using the testing data\n",
    "y_pred = logistic_model.predict(X_test)\n",
    "pd.DataFrame({\"Prediction\": y_pred, \"Actual\": y_test}).reset_index(drop=True)"
   ]
  },
  {
   "cell_type": "markdown",
   "metadata": {},
   "source": [
    "### Step 3: Evaluate the model’s performance by doing the following:\n",
    "\n",
    "* Generate a confusion matrix.\n",
    "\n",
    "* Print the classification report."
   ]
  },
  {
   "cell_type": "code",
   "execution_count": 41,
   "metadata": {},
   "outputs": [
    {
     "name": "stdout",
     "output_type": "stream",
     "text": [
      "Accuracy: 1.0\n",
      "Confusion Matrix:\n",
      "[[21  0  0  0  0  0  0  0  0  0]\n",
      " [ 0 26  0  0  0  0  0  0  0  0]\n",
      " [ 0  0 24  0  0  0  0  0  0  0]\n",
      " [ 0  0  0 23  0  0  0  0  0  0]\n",
      " [ 0  0  0  0 23  0  0  0  0  0]\n",
      " [ 0  0  0  0  0 33  0  0  0  0]\n",
      " [ 0  0  0  0  0  0 19  0  0  0]\n",
      " [ 0  0  0  0  0  0  0 22  0  0]\n",
      " [ 0  0  0  0  0  0  0  0 24  0]\n",
      " [ 0  0  0  0  0  0  0  0  0 25]]\n"
     ]
    }
   ],
   "source": [
    "# Generate a confusion matrix for the model\n",
    "from sklearn.metrics import accuracy_score, classification_report, confusion_matrix\n",
    "\n",
    "accuracy = accuracy_score(y_test, y_pred)\n",
    "print(\"Accuracy:\", accuracy)\n",
    "\n",
    "conf_matrix = confusion_matrix(y_test, y_pred)\n",
    "print(\"Confusion Matrix:\")\n",
    "print(conf_matrix)"
   ]
  },
  {
   "cell_type": "code",
   "execution_count": 42,
   "metadata": {},
   "outputs": [
    {
     "name": "stdout",
     "output_type": "stream",
     "text": [
      "              precision    recall  f1-score   support\n",
      "\n",
      "   Disease 0       1.00      1.00      1.00        21\n",
      "   Disease 1       1.00      1.00      1.00        26\n",
      "   Disease 2       1.00      1.00      1.00        24\n",
      "   Disease 3       1.00      1.00      1.00        23\n",
      "   Disease 4       1.00      1.00      1.00        23\n",
      "   Disease 5       1.00      1.00      1.00        33\n",
      "   Disease 6       1.00      1.00      1.00        19\n",
      "   Disease 7       1.00      1.00      1.00        22\n",
      "   Disease 8       1.00      1.00      1.00        24\n",
      "   Disease 9       1.00      1.00      1.00        25\n",
      "\n",
      "    accuracy                           1.00       240\n",
      "   macro avg       1.00      1.00      1.00       240\n",
      "weighted avg       1.00      1.00      1.00       240\n",
      "\n"
     ]
    }
   ],
   "source": [
    "import numpy as np\n",
    "num_classes = len(np.unique(y_test)) \n",
    "# Get the number of unique classes in y_test\n",
    "target_names = [f\"Disease {i}\" for i in range(num_classes)]\n",
    "print(classification_report(y_test, y_pred, target_names=target_names))"
   ]
  },
  {
   "cell_type": "markdown",
   "metadata": {},
   "source": [
    "### Step 4: Answer the following question."
   ]
  },
  {
   "cell_type": "markdown",
   "metadata": {},
   "source": [
    "**Question:**  How effectively does the logistic regression model identify the appropriate disease based on the symptoms provided in the dataset?\n",
    "\n",
    "**Answer:** \n",
    "\n",
    "The logistic regression model seems to perform well in predicting the appropriate disease(s) based on the symptoms. Each disease (Disease 0 to Disease 9) has achieved a perfect precision, recall, and F1-score of 1.00.\n",
    "\n",
    "Additionally, the overall accuracy of the model is 1.00, suggesting that it accurately predicts the disease(s) based on the symptoms in the dataset.\n",
    "\n",
    "Therefore, based on the outcome, we can conclude that the logistic regression model performs very well in identifying the appropriate disease based on the symptoms provided in the dataset.\n"
   ]
  },
  {
   "cell_type": "markdown",
   "metadata": {},
   "source": [
    "---"
   ]
  }
 ],
 "metadata": {
  "kernelspec": {
   "display_name": "Python 3 (ipykernel)",
   "language": "python",
   "name": "python3"
  },
  "language_info": {
   "codemirror_mode": {
    "name": "ipython",
    "version": 3
   },
   "file_extension": ".py",
   "mimetype": "text/x-python",
   "name": "python",
   "nbconvert_exporter": "python",
   "pygments_lexer": "ipython3",
   "version": "3.10.13"
  },
  "vscode": {
   "interpreter": {
    "hash": "31f2aee4e71d21fbe5cf8b01ff0e069b9275f58929596ceb00d14d90e3e16cd6"
   }
  }
 },
 "nbformat": 4,
 "nbformat_minor": 4
}
