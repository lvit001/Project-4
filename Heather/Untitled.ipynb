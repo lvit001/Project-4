{
 "cells": [
  {
   "cell_type": "code",
   "execution_count": 1,
   "id": "ddbf0a81",
   "metadata": {},
   "outputs": [],
   "source": [
    "\n",
    "import matplotlib.pyplot as plt\n",
    "from sklearn.datasets import load_iris\n",
    "from sklearn.ensemble import RandomForestClassifier\n",
    "from sklearn.tree import plot_tree"
   ]
  },
  {
   "cell_type": "code",
   "execution_count": null,
   "id": "aca1d8b2",
   "metadata": {},
   "outputs": [],
   "source": [
    "# Load your data into a DataFrame\n",
    "data = Path(\"../Data/diseases.sqlite\")"
   ]
  },
  {
   "cell_type": "code",
   "execution_count": null,
   "id": "98918998",
   "metadata": {},
   "outputs": [],
   "source": [
    "# Connect to and read from the database\n",
    "conn = sqlite3.connect(file_path)\n",
    "symptoms_df = pd.read_sql_query(\"SELECT * FROM diseases\", conn)\n",
    "conn.close()"
   ]
  },
  {
   "cell_type": "code",
   "execution_count": null,
   "id": "09ff5cd1",
   "metadata": {},
   "outputs": [],
   "source": [
    "# Load the Iris dataset\n",
    "iris = load_iris()\n",
    "X = iris.data.drop(\"Disease\", axis=1, inplace=True) \n",
    "y = iris.target[\"Disease\"]"
   ]
  },
  {
   "cell_type": "code",
   "execution_count": null,
   "id": "40afbe11",
   "metadata": {},
   "outputs": [],
   "source": [
    "# Get the feature names and target names from the Iris dataset\n",
    "fn = iris.feature_names\n",
    "cn = iris.target_names"
   ]
  },
  {
   "cell_type": "code",
   "execution_count": null,
   "id": "5d2bacd7",
   "metadata": {},
   "outputs": [],
   "source": [
    "# Plot the first decision tree in the Random Forest\n",
    "plt.figure(figsize=(10, 6))\n",
    "plot_tree(rf_classifier.estimators_[0], feature_names=fn, class_names=cn, filled=True)\n",
    "plt.show()"
   ]
  },
  {
   "cell_type": "code",
   "execution_count": null,
   "id": "3f248da9",
   "metadata": {},
   "outputs": [],
   "source": []
  },
  {
   "cell_type": "code",
   "execution_count": null,
   "id": "de2651d0",
   "metadata": {},
   "outputs": [],
   "source": []
  },
  {
   "cell_type": "code",
   "execution_count": null,
   "id": "b1326ade",
   "metadata": {},
   "outputs": [],
   "source": []
  },
  {
   "cell_type": "code",
   "execution_count": null,
   "id": "af12dd71",
   "metadata": {},
   "outputs": [],
   "source": []
  },
  {
   "cell_type": "code",
   "execution_count": null,
   "id": "ae9ae96e",
   "metadata": {},
   "outputs": [],
   "source": []
  }
 ],
 "metadata": {
  "kernelspec": {
   "display_name": "Python 3 (ipykernel)",
   "language": "python",
   "name": "python3"
  },
  "language_info": {
   "codemirror_mode": {
    "name": "ipython",
    "version": 3
   },
   "file_extension": ".py",
   "mimetype": "text/x-python",
   "name": "python",
   "nbconvert_exporter": "python",
   "pygments_lexer": "ipython3",
   "version": "3.10.13"
  }
 },
 "nbformat": 4,
 "nbformat_minor": 5
}
