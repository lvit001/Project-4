{
  "cells": [
    {
      "cell_type": "markdown",
      "metadata": {
        "id": "ttE-J1bq02I8"
      },
      "source": [
        "## Import dependencies"
      ]
    },
    {
      "cell_type": "code",
      "execution_count": 1,
      "metadata": {
        "id": "SHRNdmnkxSd4"
      },
      "outputs": [],
      "source": [
        "# Filepaths, numpy, and Tensorflow\n",
        "import pandas as pd\n",
        "import os\n",
        "import numpy as np\n",
        "import sqlite3\n",
        "import tensorflow as tf"
      ]
    },
    {
      "cell_type": "code",
      "execution_count": 2,
      "metadata": {
        "id": "_GGAg08_zr_T"
      },
      "outputs": [],
      "source": [
        "# sklearn\n",
        "from sklearn.model_selection import train_test_split\n",
        "from sklearn.metrics import accuracy_score"
      ]
    },
    {
      "cell_type": "code",
      "execution_count": 3,
      "metadata": {
        "id": "Hosa1yJsxu4Y"
      },
      "outputs": [],
      "source": [
        "# Keras\n",
        "from tensorflow import keras\n",
        "from tensorflow.keras.models import Sequential\n",
        "from tensorflow.keras.utils import to_categorical\n",
        "from tensorflow.keras.layers import Dense"
      ]
    },
    {
      "cell_type": "markdown",
      "metadata": {
        "id": "85DoVtzR07Tx"
      },
      "source": [
        "## Load and pre-process data"
      ]
    },
    {
      "cell_type": "code",
      "execution_count": 4,
      "metadata": {
        "colab": {
          "base_uri": "https://localhost:8080/",
          "height": 273
        },
        "id": "NaZ3AwSiIpDw",
        "outputId": "9daa5ce9-2925-4ba6-ebad-1e6661fab32f"
      },
      "outputs": [
        {
          "output_type": "execute_result",
          "data": {
            "text/plain": [
              "   acidity  anxiety  bladder_discomfort  blurred_and_distorted_vision  \\\n",
              "0        0        0                   0                             0   \n",
              "1        0        0                   0                             0   \n",
              "2        0        0                   0                             0   \n",
              "3        0        0                   0                             0   \n",
              "4        0        0                   0                             0   \n",
              "\n",
              "   breathlessness  burning_micturition  chest_pain  chills  congestion  \\\n",
              "0               0                    0           0       0           0   \n",
              "1               0                    0           0       0           0   \n",
              "2               0                    0           0       0           0   \n",
              "3               0                    0           0       0           0   \n",
              "4               0                    0           0       0           0   \n",
              "\n",
              "   continuous_feel_of_urine  ...  spotting_ urination  stiff_neck  \\\n",
              "0                         0  ...                    0           0   \n",
              "1                         0  ...                    0           0   \n",
              "2                         0  ...                    0           0   \n",
              "3                         0  ...                    0           0   \n",
              "4                         0  ...                    0           0   \n",
              "\n",
              "   stomach_pain  sweating  swelled_lymph_nodes  throat_irritation  \\\n",
              "0             0         0                    0                  0   \n",
              "1             0         0                    0                  0   \n",
              "2             0         0                    0                  0   \n",
              "3             0         0                    0                  0   \n",
              "4             0         0                    0                  0   \n",
              "\n",
              "   visual_disturbances  vomiting  watering_from_eyes  Disease  \n",
              "0                    0         0                   0        6  \n",
              "1                    0         0                   0        6  \n",
              "2                    0         0                   0        6  \n",
              "3                    0         0                   0        6  \n",
              "4                    0         0                   0        6  \n",
              "\n",
              "[5 rows x 52 columns]"
            ],
            "text/html": [
              "\n",
              "  <div id=\"df-9a3a55dd-20c5-46a1-b689-9cf4153bedb9\" class=\"colab-df-container\">\n",
              "    <div>\n",
              "<style scoped>\n",
              "    .dataframe tbody tr th:only-of-type {\n",
              "        vertical-align: middle;\n",
              "    }\n",
              "\n",
              "    .dataframe tbody tr th {\n",
              "        vertical-align: top;\n",
              "    }\n",
              "\n",
              "    .dataframe thead th {\n",
              "        text-align: right;\n",
              "    }\n",
              "</style>\n",
              "<table border=\"1\" class=\"dataframe\">\n",
              "  <thead>\n",
              "    <tr style=\"text-align: right;\">\n",
              "      <th></th>\n",
              "      <th>acidity</th>\n",
              "      <th>anxiety</th>\n",
              "      <th>bladder_discomfort</th>\n",
              "      <th>blurred_and_distorted_vision</th>\n",
              "      <th>breathlessness</th>\n",
              "      <th>burning_micturition</th>\n",
              "      <th>chest_pain</th>\n",
              "      <th>chills</th>\n",
              "      <th>congestion</th>\n",
              "      <th>continuous_feel_of_urine</th>\n",
              "      <th>...</th>\n",
              "      <th>spotting_ urination</th>\n",
              "      <th>stiff_neck</th>\n",
              "      <th>stomach_pain</th>\n",
              "      <th>sweating</th>\n",
              "      <th>swelled_lymph_nodes</th>\n",
              "      <th>throat_irritation</th>\n",
              "      <th>visual_disturbances</th>\n",
              "      <th>vomiting</th>\n",
              "      <th>watering_from_eyes</th>\n",
              "      <th>Disease</th>\n",
              "    </tr>\n",
              "  </thead>\n",
              "  <tbody>\n",
              "    <tr>\n",
              "      <th>0</th>\n",
              "      <td>0</td>\n",
              "      <td>0</td>\n",
              "      <td>0</td>\n",
              "      <td>0</td>\n",
              "      <td>0</td>\n",
              "      <td>0</td>\n",
              "      <td>0</td>\n",
              "      <td>0</td>\n",
              "      <td>0</td>\n",
              "      <td>0</td>\n",
              "      <td>...</td>\n",
              "      <td>0</td>\n",
              "      <td>0</td>\n",
              "      <td>0</td>\n",
              "      <td>0</td>\n",
              "      <td>0</td>\n",
              "      <td>0</td>\n",
              "      <td>0</td>\n",
              "      <td>0</td>\n",
              "      <td>0</td>\n",
              "      <td>6</td>\n",
              "    </tr>\n",
              "    <tr>\n",
              "      <th>1</th>\n",
              "      <td>0</td>\n",
              "      <td>0</td>\n",
              "      <td>0</td>\n",
              "      <td>0</td>\n",
              "      <td>0</td>\n",
              "      <td>0</td>\n",
              "      <td>0</td>\n",
              "      <td>0</td>\n",
              "      <td>0</td>\n",
              "      <td>0</td>\n",
              "      <td>...</td>\n",
              "      <td>0</td>\n",
              "      <td>0</td>\n",
              "      <td>0</td>\n",
              "      <td>0</td>\n",
              "      <td>0</td>\n",
              "      <td>0</td>\n",
              "      <td>0</td>\n",
              "      <td>0</td>\n",
              "      <td>0</td>\n",
              "      <td>6</td>\n",
              "    </tr>\n",
              "    <tr>\n",
              "      <th>2</th>\n",
              "      <td>0</td>\n",
              "      <td>0</td>\n",
              "      <td>0</td>\n",
              "      <td>0</td>\n",
              "      <td>0</td>\n",
              "      <td>0</td>\n",
              "      <td>0</td>\n",
              "      <td>0</td>\n",
              "      <td>0</td>\n",
              "      <td>0</td>\n",
              "      <td>...</td>\n",
              "      <td>0</td>\n",
              "      <td>0</td>\n",
              "      <td>0</td>\n",
              "      <td>0</td>\n",
              "      <td>0</td>\n",
              "      <td>0</td>\n",
              "      <td>0</td>\n",
              "      <td>0</td>\n",
              "      <td>0</td>\n",
              "      <td>6</td>\n",
              "    </tr>\n",
              "    <tr>\n",
              "      <th>3</th>\n",
              "      <td>0</td>\n",
              "      <td>0</td>\n",
              "      <td>0</td>\n",
              "      <td>0</td>\n",
              "      <td>0</td>\n",
              "      <td>0</td>\n",
              "      <td>0</td>\n",
              "      <td>0</td>\n",
              "      <td>0</td>\n",
              "      <td>0</td>\n",
              "      <td>...</td>\n",
              "      <td>0</td>\n",
              "      <td>0</td>\n",
              "      <td>0</td>\n",
              "      <td>0</td>\n",
              "      <td>0</td>\n",
              "      <td>0</td>\n",
              "      <td>0</td>\n",
              "      <td>0</td>\n",
              "      <td>0</td>\n",
              "      <td>6</td>\n",
              "    </tr>\n",
              "    <tr>\n",
              "      <th>4</th>\n",
              "      <td>0</td>\n",
              "      <td>0</td>\n",
              "      <td>0</td>\n",
              "      <td>0</td>\n",
              "      <td>0</td>\n",
              "      <td>0</td>\n",
              "      <td>0</td>\n",
              "      <td>0</td>\n",
              "      <td>0</td>\n",
              "      <td>0</td>\n",
              "      <td>...</td>\n",
              "      <td>0</td>\n",
              "      <td>0</td>\n",
              "      <td>0</td>\n",
              "      <td>0</td>\n",
              "      <td>0</td>\n",
              "      <td>0</td>\n",
              "      <td>0</td>\n",
              "      <td>0</td>\n",
              "      <td>0</td>\n",
              "      <td>6</td>\n",
              "    </tr>\n",
              "  </tbody>\n",
              "</table>\n",
              "<p>5 rows × 52 columns</p>\n",
              "</div>\n",
              "    <div class=\"colab-df-buttons\">\n",
              "\n",
              "  <div class=\"colab-df-container\">\n",
              "    <button class=\"colab-df-convert\" onclick=\"convertToInteractive('df-9a3a55dd-20c5-46a1-b689-9cf4153bedb9')\"\n",
              "            title=\"Convert this dataframe to an interactive table.\"\n",
              "            style=\"display:none;\">\n",
              "\n",
              "  <svg xmlns=\"http://www.w3.org/2000/svg\" height=\"24px\" viewBox=\"0 -960 960 960\">\n",
              "    <path d=\"M120-120v-720h720v720H120Zm60-500h600v-160H180v160Zm220 220h160v-160H400v160Zm0 220h160v-160H400v160ZM180-400h160v-160H180v160Zm440 0h160v-160H620v160ZM180-180h160v-160H180v160Zm440 0h160v-160H620v160Z\"/>\n",
              "  </svg>\n",
              "    </button>\n",
              "\n",
              "  <style>\n",
              "    .colab-df-container {\n",
              "      display:flex;\n",
              "      gap: 12px;\n",
              "    }\n",
              "\n",
              "    .colab-df-convert {\n",
              "      background-color: #E8F0FE;\n",
              "      border: none;\n",
              "      border-radius: 50%;\n",
              "      cursor: pointer;\n",
              "      display: none;\n",
              "      fill: #1967D2;\n",
              "      height: 32px;\n",
              "      padding: 0 0 0 0;\n",
              "      width: 32px;\n",
              "    }\n",
              "\n",
              "    .colab-df-convert:hover {\n",
              "      background-color: #E2EBFA;\n",
              "      box-shadow: 0px 1px 2px rgba(60, 64, 67, 0.3), 0px 1px 3px 1px rgba(60, 64, 67, 0.15);\n",
              "      fill: #174EA6;\n",
              "    }\n",
              "\n",
              "    .colab-df-buttons div {\n",
              "      margin-bottom: 4px;\n",
              "    }\n",
              "\n",
              "    [theme=dark] .colab-df-convert {\n",
              "      background-color: #3B4455;\n",
              "      fill: #D2E3FC;\n",
              "    }\n",
              "\n",
              "    [theme=dark] .colab-df-convert:hover {\n",
              "      background-color: #434B5C;\n",
              "      box-shadow: 0px 1px 3px 1px rgba(0, 0, 0, 0.15);\n",
              "      filter: drop-shadow(0px 1px 2px rgba(0, 0, 0, 0.3));\n",
              "      fill: #FFFFFF;\n",
              "    }\n",
              "  </style>\n",
              "\n",
              "    <script>\n",
              "      const buttonEl =\n",
              "        document.querySelector('#df-9a3a55dd-20c5-46a1-b689-9cf4153bedb9 button.colab-df-convert');\n",
              "      buttonEl.style.display =\n",
              "        google.colab.kernel.accessAllowed ? 'block' : 'none';\n",
              "\n",
              "      async function convertToInteractive(key) {\n",
              "        const element = document.querySelector('#df-9a3a55dd-20c5-46a1-b689-9cf4153bedb9');\n",
              "        const dataTable =\n",
              "          await google.colab.kernel.invokeFunction('convertToInteractive',\n",
              "                                                    [key], {});\n",
              "        if (!dataTable) return;\n",
              "\n",
              "        const docLinkHtml = 'Like what you see? Visit the ' +\n",
              "          '<a target=\"_blank\" href=https://colab.research.google.com/notebooks/data_table.ipynb>data table notebook</a>'\n",
              "          + ' to learn more about interactive tables.';\n",
              "        element.innerHTML = '';\n",
              "        dataTable['output_type'] = 'display_data';\n",
              "        await google.colab.output.renderOutput(dataTable, element);\n",
              "        const docLink = document.createElement('div');\n",
              "        docLink.innerHTML = docLinkHtml;\n",
              "        element.appendChild(docLink);\n",
              "      }\n",
              "    </script>\n",
              "  </div>\n",
              "\n",
              "\n",
              "<div id=\"df-d5080401-2f7a-4b6b-82ae-dc96199342fa\">\n",
              "  <button class=\"colab-df-quickchart\" onclick=\"quickchart('df-d5080401-2f7a-4b6b-82ae-dc96199342fa')\"\n",
              "            title=\"Suggest charts\"\n",
              "            style=\"display:none;\">\n",
              "\n",
              "<svg xmlns=\"http://www.w3.org/2000/svg\" height=\"24px\"viewBox=\"0 0 24 24\"\n",
              "     width=\"24px\">\n",
              "    <g>\n",
              "        <path d=\"M19 3H5c-1.1 0-2 .9-2 2v14c0 1.1.9 2 2 2h14c1.1 0 2-.9 2-2V5c0-1.1-.9-2-2-2zM9 17H7v-7h2v7zm4 0h-2V7h2v10zm4 0h-2v-4h2v4z\"/>\n",
              "    </g>\n",
              "</svg>\n",
              "  </button>\n",
              "\n",
              "<style>\n",
              "  .colab-df-quickchart {\n",
              "      --bg-color: #E8F0FE;\n",
              "      --fill-color: #1967D2;\n",
              "      --hover-bg-color: #E2EBFA;\n",
              "      --hover-fill-color: #174EA6;\n",
              "      --disabled-fill-color: #AAA;\n",
              "      --disabled-bg-color: #DDD;\n",
              "  }\n",
              "\n",
              "  [theme=dark] .colab-df-quickchart {\n",
              "      --bg-color: #3B4455;\n",
              "      --fill-color: #D2E3FC;\n",
              "      --hover-bg-color: #434B5C;\n",
              "      --hover-fill-color: #FFFFFF;\n",
              "      --disabled-bg-color: #3B4455;\n",
              "      --disabled-fill-color: #666;\n",
              "  }\n",
              "\n",
              "  .colab-df-quickchart {\n",
              "    background-color: var(--bg-color);\n",
              "    border: none;\n",
              "    border-radius: 50%;\n",
              "    cursor: pointer;\n",
              "    display: none;\n",
              "    fill: var(--fill-color);\n",
              "    height: 32px;\n",
              "    padding: 0;\n",
              "    width: 32px;\n",
              "  }\n",
              "\n",
              "  .colab-df-quickchart:hover {\n",
              "    background-color: var(--hover-bg-color);\n",
              "    box-shadow: 0 1px 2px rgba(60, 64, 67, 0.3), 0 1px 3px 1px rgba(60, 64, 67, 0.15);\n",
              "    fill: var(--button-hover-fill-color);\n",
              "  }\n",
              "\n",
              "  .colab-df-quickchart-complete:disabled,\n",
              "  .colab-df-quickchart-complete:disabled:hover {\n",
              "    background-color: var(--disabled-bg-color);\n",
              "    fill: var(--disabled-fill-color);\n",
              "    box-shadow: none;\n",
              "  }\n",
              "\n",
              "  .colab-df-spinner {\n",
              "    border: 2px solid var(--fill-color);\n",
              "    border-color: transparent;\n",
              "    border-bottom-color: var(--fill-color);\n",
              "    animation:\n",
              "      spin 1s steps(1) infinite;\n",
              "  }\n",
              "\n",
              "  @keyframes spin {\n",
              "    0% {\n",
              "      border-color: transparent;\n",
              "      border-bottom-color: var(--fill-color);\n",
              "      border-left-color: var(--fill-color);\n",
              "    }\n",
              "    20% {\n",
              "      border-color: transparent;\n",
              "      border-left-color: var(--fill-color);\n",
              "      border-top-color: var(--fill-color);\n",
              "    }\n",
              "    30% {\n",
              "      border-color: transparent;\n",
              "      border-left-color: var(--fill-color);\n",
              "      border-top-color: var(--fill-color);\n",
              "      border-right-color: var(--fill-color);\n",
              "    }\n",
              "    40% {\n",
              "      border-color: transparent;\n",
              "      border-right-color: var(--fill-color);\n",
              "      border-top-color: var(--fill-color);\n",
              "    }\n",
              "    60% {\n",
              "      border-color: transparent;\n",
              "      border-right-color: var(--fill-color);\n",
              "    }\n",
              "    80% {\n",
              "      border-color: transparent;\n",
              "      border-right-color: var(--fill-color);\n",
              "      border-bottom-color: var(--fill-color);\n",
              "    }\n",
              "    90% {\n",
              "      border-color: transparent;\n",
              "      border-bottom-color: var(--fill-color);\n",
              "    }\n",
              "  }\n",
              "</style>\n",
              "\n",
              "  <script>\n",
              "    async function quickchart(key) {\n",
              "      const quickchartButtonEl =\n",
              "        document.querySelector('#' + key + ' button');\n",
              "      quickchartButtonEl.disabled = true;  // To prevent multiple clicks.\n",
              "      quickchartButtonEl.classList.add('colab-df-spinner');\n",
              "      try {\n",
              "        const charts = await google.colab.kernel.invokeFunction(\n",
              "            'suggestCharts', [key], {});\n",
              "      } catch (error) {\n",
              "        console.error('Error during call to suggestCharts:', error);\n",
              "      }\n",
              "      quickchartButtonEl.classList.remove('colab-df-spinner');\n",
              "      quickchartButtonEl.classList.add('colab-df-quickchart-complete');\n",
              "    }\n",
              "    (() => {\n",
              "      let quickchartButtonEl =\n",
              "        document.querySelector('#df-d5080401-2f7a-4b6b-82ae-dc96199342fa button');\n",
              "      quickchartButtonEl.style.display =\n",
              "        google.colab.kernel.accessAllowed ? 'block' : 'none';\n",
              "    })();\n",
              "  </script>\n",
              "</div>\n",
              "\n",
              "    </div>\n",
              "  </div>\n"
            ],
            "application/vnd.google.colaboratory.intrinsic+json": {
              "type": "dataframe",
              "variable_name": "encoded_data"
            }
          },
          "metadata": {},
          "execution_count": 4
        }
      ],
      "source": [
        "# Create a connecting to the sqlite database\n",
        "conn = sqlite3.connect('diseases.sqlite')\n",
        "\n",
        "# Convert the diseases table to a pandas df\n",
        "encoded_data = pd.read_sql_query(\"SELECT * FROM diseases\", conn)\n",
        "\n",
        "# Display the dataframe\n",
        "encoded_data.head()"
      ]
    },
    {
      "cell_type": "code",
      "execution_count": 5,
      "metadata": {
        "id": "gUymgmMjyIo5"
      },
      "outputs": [],
      "source": [
        "# Split the features from the ouput data\n",
        "X = encoded_data.drop(columns='Disease').values\n",
        "y = encoded_data.Disease.values"
      ]
    },
    {
      "cell_type": "code",
      "execution_count": 6,
      "metadata": {
        "id": "8zSYAL390AGZ"
      },
      "outputs": [],
      "source": [
        "# Split training/test datasets\n",
        "X_train, X_test, y_train, y_test = train_test_split(X, y, random_state=42, stratify=y)"
      ]
    },
    {
      "cell_type": "code",
      "execution_count": 7,
      "metadata": {
        "colab": {
          "base_uri": "https://localhost:8080/"
        },
        "id": "6hQmok2n0AgR",
        "outputId": "f9a34bb4-1e54-4334-8f7a-358359cdb157"
      },
      "outputs": [
        {
          "output_type": "execute_result",
          "data": {
            "text/plain": [
              "array([0., 0., 0., 0., 0., 0., 0., 0., 0., 1.], dtype=float32)"
            ]
          },
          "metadata": {},
          "execution_count": 7
        }
      ],
      "source": [
        "# We need to convert our target labels (expected values) to categorical data\n",
        "num_classes = 10\n",
        "y_train = to_categorical(y_train, num_classes)\n",
        "y_test = to_categorical(y_test, num_classes)\n",
        "y_train[0]"
      ]
    },
    {
      "cell_type": "code",
      "execution_count": 8,
      "metadata": {
        "colab": {
          "base_uri": "https://localhost:8080/"
        },
        "id": "2JHYb3Rk0U6h",
        "outputId": "347a8dba-3b0f-4ca2-c459-5046105de273"
      },
      "outputs": [
        {
          "output_type": "stream",
          "name": "stdout",
          "text": [
            "X Training Shape: (900, 51)\n",
            "X Testing Shape: (300, 51)\n",
            "Y Training Shape: (900, 10)\n",
            "Y Testing Shape: (300, 10)\n"
          ]
        }
      ],
      "source": [
        "# Preview the shapes of the training and testing output data\n",
        "print(\"X Training Shape:\", X_train.shape)\n",
        "print(\"X Testing Shape:\", X_test.shape)\n",
        "print(\"Y Training Shape:\", y_train.shape)\n",
        "print(\"Y Testing Shape:\", y_test.shape)"
      ]
    },
    {
      "cell_type": "markdown",
      "metadata": {
        "id": "7mChJ2pT0zgF"
      },
      "source": [
        "## Build the Initial Model"
      ]
    },
    {
      "cell_type": "code",
      "execution_count": 9,
      "metadata": {
        "id": "ldBCSQ6D0XYc"
      },
      "outputs": [],
      "source": [
        "# Create an empty sequential model\n",
        "model = Sequential()"
      ]
    },
    {
      "cell_type": "code",
      "execution_count": 10,
      "metadata": {
        "id": "TFh5l9cW1Ax6"
      },
      "outputs": [],
      "source": [
        "# Add the first layer where the input dimensions are 36 nodes and relu activation model\n",
        "model.add(Dense(10, activation='relu', input_dim=X_train.shape[1]))"
      ]
    },
    {
      "cell_type": "code",
      "execution_count": 11,
      "metadata": {
        "id": "8G3tqVvb1G3i"
      },
      "outputs": [],
      "source": [
        "# Add a second hidden layer\n",
        "model.add(Dense(10, activation='relu'))"
      ]
    },
    {
      "cell_type": "code",
      "execution_count": 12,
      "metadata": {
        "id": "RxkSUNs_1RB-"
      },
      "outputs": [],
      "source": [
        "# Add our final output layer where the number of nodes\n",
        "# corresponds to the number of y labels\n",
        "model.add(Dense(num_classes, activation='softmax'))"
      ]
    },
    {
      "cell_type": "markdown",
      "metadata": {
        "id": "vV05TJBU1dwV"
      },
      "source": [
        "## Model Summary"
      ]
    },
    {
      "cell_type": "code",
      "execution_count": 13,
      "metadata": {
        "colab": {
          "base_uri": "https://localhost:8080/"
        },
        "id": "JFgU8G4B1To1",
        "outputId": "e35eaee6-199c-421a-a527-786ab6784d93"
      },
      "outputs": [
        {
          "output_type": "stream",
          "name": "stdout",
          "text": [
            "Model: \"sequential\"\n",
            "_________________________________________________________________\n",
            " Layer (type)                Output Shape              Param #   \n",
            "=================================================================\n",
            " dense (Dense)               (None, 10)                520       \n",
            "                                                                 \n",
            " dense_1 (Dense)             (None, 10)                110       \n",
            "                                                                 \n",
            " dense_2 (Dense)             (None, 10)                110       \n",
            "                                                                 \n",
            "=================================================================\n",
            "Total params: 740 (2.89 KB)\n",
            "Trainable params: 740 (2.89 KB)\n",
            "Non-trainable params: 0 (0.00 Byte)\n",
            "_________________________________________________________________\n"
          ]
        }
      ],
      "source": [
        "# We can summarize our model\n",
        "model.summary()"
      ]
    },
    {
      "cell_type": "markdown",
      "metadata": {
        "id": "aKfFAmVJ1oUK"
      },
      "source": [
        "##  Compile and Train Model"
      ]
    },
    {
      "cell_type": "code",
      "execution_count": 14,
      "metadata": {
        "id": "l9hdWZIq1XHL"
      },
      "outputs": [],
      "source": [
        "# Use categorical crossentropy for categorical data and mean squared error for regression\n",
        "model.compile(optimizer='adam', loss='categorical_crossentropy', metrics=['accuracy'])"
      ]
    },
    {
      "cell_type": "code",
      "execution_count": 15,
      "metadata": {
        "colab": {
          "base_uri": "https://localhost:8080/"
        },
        "id": "UhSfRXmA1qIC",
        "outputId": "431d9dfc-eed0-4aca-9aa9-f7a3282b2884"
      },
      "outputs": [
        {
          "output_type": "stream",
          "name": "stdout",
          "text": [
            "Epoch 1/10\n",
            "29/29 - 2s - loss: 2.1918 - accuracy: 0.1000 - 2s/epoch - 72ms/step\n",
            "Epoch 2/10\n",
            "29/29 - 0s - loss: 2.0297 - accuracy: 0.1700 - 72ms/epoch - 2ms/step\n",
            "Epoch 3/10\n",
            "29/29 - 0s - loss: 1.8513 - accuracy: 0.3389 - 75ms/epoch - 3ms/step\n",
            "Epoch 4/10\n",
            "29/29 - 0s - loss: 1.6481 - accuracy: 0.5356 - 71ms/epoch - 2ms/step\n",
            "Epoch 5/10\n",
            "29/29 - 0s - loss: 1.4268 - accuracy: 0.7478 - 68ms/epoch - 2ms/step\n",
            "Epoch 6/10\n",
            "29/29 - 0s - loss: 1.1995 - accuracy: 0.6911 - 121ms/epoch - 4ms/step\n",
            "Epoch 7/10\n",
            "29/29 - 0s - loss: 0.9988 - accuracy: 0.6933 - 101ms/epoch - 3ms/step\n",
            "Epoch 8/10\n",
            "29/29 - 0s - loss: 0.8317 - accuracy: 0.7422 - 80ms/epoch - 3ms/step\n",
            "Epoch 9/10\n",
            "29/29 - 0s - loss: 0.6896 - accuracy: 0.8456 - 75ms/epoch - 3ms/step\n",
            "Epoch 10/10\n",
            "29/29 - 0s - loss: 0.5627 - accuracy: 0.9900 - 72ms/epoch - 2ms/step\n"
          ]
        },
        {
          "output_type": "execute_result",
          "data": {
            "text/plain": [
              "<keras.src.callbacks.History at 0x7cdd141fa0e0>"
            ]
          },
          "metadata": {},
          "execution_count": 15
        }
      ],
      "source": [
        " # Fit (train) the model\n",
        "model.fit(\n",
        "    X_train,\n",
        "    y_train,\n",
        "    epochs=10,\n",
        "    shuffle=True,\n",
        "    verbose=2\n",
        ")"
      ]
    },
    {
      "cell_type": "markdown",
      "metadata": {
        "id": "EV6Dp_iu1-Iv"
      },
      "source": [
        "## Save and Load Model"
      ]
    },
    {
      "cell_type": "code",
      "execution_count": 16,
      "metadata": {
        "colab": {
          "base_uri": "https://localhost:8080/"
        },
        "id": "0S2NKoLk12vV",
        "outputId": "f6e49045-8609-4773-b262-a70df82db80a"
      },
      "outputs": [
        {
          "output_type": "stream",
          "name": "stderr",
          "text": [
            "/usr/local/lib/python3.10/dist-packages/keras/src/engine/training.py:3103: UserWarning: You are saving your model as an HDF5 file via `model.save()`. This file format is considered legacy. We recommend using instead the native Keras format, e.g. `model.save('my_model.keras')`.\n",
            "  saving_api.save_model(\n"
          ]
        }
      ],
      "source": [
        "# Save the model\n",
        "model.save(\"diseases_trained_1.h5\")"
      ]
    },
    {
      "cell_type": "code",
      "execution_count": 17,
      "metadata": {
        "id": "nHA5zNCA2CIO"
      },
      "outputs": [],
      "source": [
        "# # Load the model\n",
        "# from tensorflow.keras.models import load_model\n",
        "# model = load_model(\"diseases_trained.h5\")"
      ]
    },
    {
      "cell_type": "markdown",
      "metadata": {
        "id": "vbqgXYvc2G1H"
      },
      "source": [
        "## Evaluate the Model"
      ]
    },
    {
      "cell_type": "code",
      "execution_count": 18,
      "metadata": {
        "colab": {
          "base_uri": "https://localhost:8080/"
        },
        "id": "5qjvOfVy2FSl",
        "outputId": "113c9b6e-a9b1-4741-ded4-b436e72d8425"
      },
      "outputs": [
        {
          "output_type": "stream",
          "name": "stdout",
          "text": [
            "10/10 - 0s - loss: 0.4942 - accuracy: 0.9833 - 337ms/epoch - 34ms/step\n",
            "Loss: 0.4942113757133484, Accuracy: 0.9833333492279053\n"
          ]
        }
      ],
      "source": [
        "# Evaluate the model using the training data\n",
        "model_loss, model_accuracy = model.evaluate(X_test, y_test, verbose=2)\n",
        "print(f\"Loss: {model_loss}, Accuracy: {model_accuracy}\")"
      ]
    },
    {
      "cell_type": "markdown",
      "metadata": {
        "id": "UkyA4Z44L00F"
      },
      "source": [
        "## Model Optimization"
      ]
    },
    {
      "cell_type": "code",
      "execution_count": 19,
      "metadata": {
        "id": "nvf6ZdzxL-n1"
      },
      "outputs": [],
      "source": [
        "# Create an empty sequential model\n",
        "model2 = Sequential()\n",
        "\n",
        "# Add the first layer where the input dimensions are 36 nodes and relu activation model\n",
        "# Increase nodes from 10 to 20\n",
        "model2.add(Dense(20, activation='relu', input_dim=X_train.shape[1]))\n",
        "\n",
        "# Add a second hidden layer\n",
        "model2.add(Dense(10, activation='relu'))\n",
        "\n",
        "# Add our final output layer where the number of nodes\n",
        "# corresponds to the number of y labels\n",
        "model2.add(Dense(num_classes, activation='softmax'))"
      ]
    },
    {
      "cell_type": "code",
      "execution_count": 20,
      "metadata": {
        "colab": {
          "base_uri": "https://localhost:8080/"
        },
        "id": "YXgUrJnCMQSq",
        "outputId": "94aa6c21-4036-4457-84a9-836bdc63acf7"
      },
      "outputs": [
        {
          "output_type": "stream",
          "name": "stdout",
          "text": [
            "Model: \"sequential_1\"\n",
            "_________________________________________________________________\n",
            " Layer (type)                Output Shape              Param #   \n",
            "=================================================================\n",
            " dense_3 (Dense)             (None, 20)                1040      \n",
            "                                                                 \n",
            " dense_4 (Dense)             (None, 10)                210       \n",
            "                                                                 \n",
            " dense_5 (Dense)             (None, 10)                110       \n",
            "                                                                 \n",
            "=================================================================\n",
            "Total params: 1360 (5.31 KB)\n",
            "Trainable params: 1360 (5.31 KB)\n",
            "Non-trainable params: 0 (0.00 Byte)\n",
            "_________________________________________________________________\n"
          ]
        }
      ],
      "source": [
        "# We can summarize our optimized model\n",
        "model2.summary()"
      ]
    },
    {
      "cell_type": "code",
      "execution_count": 21,
      "metadata": {
        "id": "CqJw2O3GMU3k"
      },
      "outputs": [],
      "source": [
        "# Use categorical crossentropy for categorical data and mean squared error for regression\n",
        "model2.compile(optimizer='adam', loss='categorical_crossentropy', metrics=['accuracy'])"
      ]
    },
    {
      "cell_type": "code",
      "execution_count": 22,
      "metadata": {
        "colab": {
          "base_uri": "https://localhost:8080/"
        },
        "id": "aCmnppt4MXUW",
        "outputId": "c270df0e-6f0f-404e-d2c2-51ad6129550e"
      },
      "outputs": [
        {
          "output_type": "stream",
          "name": "stdout",
          "text": [
            "Epoch 1/10\n",
            "29/29 - 2s - loss: 2.2576 - accuracy: 0.1133 - 2s/epoch - 57ms/step\n",
            "Epoch 2/10\n",
            "29/29 - 0s - loss: 2.0526 - accuracy: 0.3600 - 82ms/epoch - 3ms/step\n",
            "Epoch 3/10\n",
            "29/29 - 0s - loss: 1.8075 - accuracy: 0.6156 - 87ms/epoch - 3ms/step\n",
            "Epoch 4/10\n",
            "29/29 - 0s - loss: 1.5104 - accuracy: 0.7089 - 84ms/epoch - 3ms/step\n",
            "Epoch 5/10\n",
            "29/29 - 0s - loss: 1.2115 - accuracy: 0.8389 - 79ms/epoch - 3ms/step\n",
            "Epoch 6/10\n",
            "29/29 - 0s - loss: 0.9545 - accuracy: 0.8622 - 70ms/epoch - 2ms/step\n",
            "Epoch 7/10\n",
            "29/29 - 0s - loss: 0.7327 - accuracy: 0.9222 - 46ms/epoch - 2ms/step\n",
            "Epoch 8/10\n",
            "29/29 - 0s - loss: 0.5384 - accuracy: 0.9933 - 44ms/epoch - 2ms/step\n",
            "Epoch 9/10\n",
            "29/29 - 0s - loss: 0.3819 - accuracy: 0.9989 - 42ms/epoch - 1ms/step\n",
            "Epoch 10/10\n",
            "29/29 - 0s - loss: 0.2504 - accuracy: 1.0000 - 54ms/epoch - 2ms/step\n"
          ]
        },
        {
          "output_type": "execute_result",
          "data": {
            "text/plain": [
              "<keras.src.callbacks.History at 0x7cdd0768df60>"
            ]
          },
          "metadata": {},
          "execution_count": 22
        }
      ],
      "source": [
        " # Fit (train) the model\n",
        "model2.fit(\n",
        "    X_train,\n",
        "    y_train,\n",
        "    epochs=10,\n",
        "    shuffle=True,\n",
        "    verbose=2\n",
        ")"
      ]
    },
    {
      "cell_type": "code",
      "execution_count": 23,
      "metadata": {
        "colab": {
          "base_uri": "https://localhost:8080/"
        },
        "id": "49BJ4MX0MnIq",
        "outputId": "04b32977-656c-4602-b7b4-d1a28d5dda75"
      },
      "outputs": [
        {
          "output_type": "stream",
          "name": "stdout",
          "text": [
            "10/10 - 0s - loss: 0.1936 - accuracy: 1.0000 - 161ms/epoch - 16ms/step\n",
            "Loss: 0.19358396530151367, Accuracy: 1.0\n"
          ]
        }
      ],
      "source": [
        "# Evaluate the second model using the training data\n",
        "model_loss, model_accuracy = model2.evaluate(X_test, y_test, verbose=2)\n",
        "print(f\"Loss: {model_loss}, Accuracy: {model_accuracy}\")"
      ]
    },
    {
      "cell_type": "code",
      "execution_count": 24,
      "metadata": {
        "id": "CwemQ1zzMd1I"
      },
      "outputs": [],
      "source": [
        "# Save the model\n",
        "model.save(\"diseases_trained_2.h5\")"
      ]
    },
    {
      "cell_type": "markdown",
      "metadata": {
        "id": "p1HqONY0L67c"
      },
      "source": [
        "## Close out SQLite session"
      ]
    },
    {
      "cell_type": "code",
      "execution_count": 25,
      "metadata": {
        "id": "DLYaXjiUJb1n"
      },
      "outputs": [],
      "source": [
        "# Close out the sqlite connection\n",
        "conn.close()"
      ]
    }
  ],
  "metadata": {
    "colab": {
      "provenance": []
    },
    "kernelspec": {
      "display_name": "Python 3",
      "name": "python3"
    },
    "language_info": {
      "name": "python"
    }
  },
  "nbformat": 4,
  "nbformat_minor": 0
}